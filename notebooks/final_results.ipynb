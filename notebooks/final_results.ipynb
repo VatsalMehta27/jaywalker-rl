{
 "cells": [
  {
   "cell_type": "code",
   "execution_count": null,
   "metadata": {},
   "outputs": [],
   "source": [
    "%load_ext autoreload\n",
    "%autoreload 2"
   ]
  },
  {
   "cell_type": "code",
   "execution_count": null,
   "metadata": {},
   "outputs": [],
   "source": [
    "from src.jaywalk_gym.jaywalk_env import JaywalkEnv, EnvParams"
   ]
  },
  {
   "cell_type": "code",
   "execution_count": null,
   "metadata": {},
   "outputs": [],
   "source": [
    "easy_params = EnvParams(\n",
    "    use_traffic_light=True,\n",
    "    max_reward=100,\n",
    "    wait_reward=-1,\n",
    "    death_reward=-50,\n",
    ")\n",
    "easy_env = JaywalkEnv(easy_params)"
   ]
  },
  {
   "cell_type": "code",
   "execution_count": null,
   "metadata": {},
   "outputs": [],
   "source": [
    "medium_params = EnvParams(\n",
    "    use_traffic_light=True,\n",
    "    max_reward=100,\n",
    "    wait_reward=-1,\n",
    "    death_reward=-50,\n",
    "    num_lane_groups=3,\n",
    "    max_vehicles=30,\n",
    "    p_vehicle_spawn=0.8,\n",
    "    p_vehicle_stop=0.5,\n",
    ")\n",
    "medium_env = JaywalkEnv(medium_params)"
   ]
  },
  {
   "cell_type": "code",
   "execution_count": null,
   "metadata": {},
   "outputs": [],
   "source": [
    "hard_params = EnvParams(\n",
    "    use_traffic_light=True,\n",
    "    max_reward=100,\n",
    "    wait_reward=-1,\n",
    "    death_reward=-50,\n",
    "    num_lane_groups=4,\n",
    "    max_vehicles=50,\n",
    "    p_vehicle_spawn=0.9,\n",
    "    p_vehicle_stop=0.3,\n",
    ")\n",
    "hard_env = JaywalkEnv(hard_params)"
   ]
  }
 ],
 "metadata": {
  "kernelspec": {
   "display_name": "env",
   "language": "python",
   "name": "python3"
  },
  "language_info": {
   "name": "python",
   "version": "3.12.5"
  }
 },
 "nbformat": 4,
 "nbformat_minor": 2
}
